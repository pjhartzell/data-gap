{
 "cells": [
  {
   "cell_type": "markdown",
   "metadata": {},
   "source": [
    "**Observered:**\n",
    "\n",
    "In `odc-stac` version 0.3.9, `odc.stac.load` always overrides `anchor=AnchorEnum.CENTER` with `anchor=AnchorEnum.EDGE`.\n",
    "This is not the case in `odc-stac` version 0.3.5. "
   ]
  },
  {
   "cell_type": "markdown",
   "metadata": {},
   "source": [
    "### `odc-stac` 0.3.5"
   ]
  },
  {
   "cell_type": "code",
   "execution_count": 1,
   "metadata": {},
   "outputs": [
    {
     "name": "stdout",
     "output_type": "stream",
     "text": [
      "odc-stac                  0.3.5\n"
     ]
    }
   ],
   "source": [
    "!pip list | grep odc-stac"
   ]
  },
  {
   "cell_type": "code",
   "execution_count": 2,
   "metadata": {},
   "outputs": [],
   "source": [
    "import odc.stac\n",
    "import pystac\n",
    "from odc.geo.geobox import AnchorEnum"
   ]
  },
  {
   "cell_type": "markdown",
   "metadata": {},
   "source": [
    "For version 0.3.5, compare coordinates when using `CENTER` versus `EDGE`."
   ]
  },
  {
   "cell_type": "code",
   "execution_count": 3,
   "metadata": {},
   "outputs": [],
   "source": [
    "item = pystac.read_file(\n",
    "    \"data/MCD43A4.A2023205.h08v05.061.2023216154702/MCD43A4.A2023205.h08v05.061.2023216154702.json\"\n",
    ")\n",
    "ds_center = odc.stac.load(\n",
    "    [item],\n",
    "    crs=\"EPSG:32610\",\n",
    "    anchor=AnchorEnum.CENTER,\n",
    ")\n",
    "ds_edge = odc.stac.load(\n",
    "    [item],\n",
    "    crs=\"EPSG:32610\",\n",
    "    anchor=AnchorEnum.EDGE,\n",
    ")"
   ]
  },
  {
   "cell_type": "code",
   "execution_count": 4,
   "metadata": {},
   "outputs": [
    {
     "name": "stdout",
     "output_type": "stream",
     "text": [
      "odc-stac version 0.3.5:\n",
      "-----------------------\n",
      "Center:\n",
      "x = -144090.2548401823, y = 4455215.082132447\n",
      "\n",
      "Edge:\n",
      "x = -143858.5984819183, y = 4454983.425774182\n",
      "\n",
      "Deltas:\n",
      "delta x = -231.6563582639792\n",
      "delta y = 231.65635826438665\n"
     ]
    }
   ],
   "source": [
    "print(\"odc-stac version 0.3.5:\")\n",
    "print(\"-----------------------\")\n",
    "print(\"Center:\")\n",
    "print(f\"x = {ds_center.coords['x'].values[0]}, y = {ds_center.coords['y'].values[0]}\")\n",
    "print()\n",
    "print(\"Edge:\")\n",
    "print(f\"x = {ds_edge.coords['x'].values[0]}, y = {ds_edge.coords['y'].values[0]}\")\n",
    "print()\n",
    "print(\"Deltas:\")\n",
    "print(f\"delta x = {ds_center.coords['x'].values[0] - ds_edge.coords['x'].values[0]}\")\n",
    "print(f\"delta y = {ds_center.coords['y'].values[0] - ds_edge.coords['y'].values[0]}\")"
   ]
  },
  {
   "cell_type": "markdown",
   "metadata": {},
   "source": [
    "These coordinate differences makes sense as they are half the resolution (463.31 meters)."
   ]
  },
  {
   "cell_type": "markdown",
   "metadata": {},
   "source": [
    "### `odc-stac` 0.3.9"
   ]
  },
  {
   "cell_type": "markdown",
   "metadata": {},
   "source": [
    "If you install `odc-stac` version 0.3.9, restart the kernel, and run the cells below, you'll see\n",
    "that there is no longer any difference between `CENTER` and `EDGE` coordinates."
   ]
  },
  {
   "cell_type": "code",
   "execution_count": 1,
   "metadata": {},
   "outputs": [
    {
     "name": "stdout",
     "output_type": "stream",
     "text": [
      "odc-stac                  0.3.9\n"
     ]
    }
   ],
   "source": [
    "!pip list | grep odc-stac"
   ]
  },
  {
   "cell_type": "code",
   "execution_count": 2,
   "metadata": {},
   "outputs": [],
   "source": [
    "import odc.stac\n",
    "import pystac\n",
    "from odc.geo.geobox import AnchorEnum"
   ]
  },
  {
   "cell_type": "code",
   "execution_count": 3,
   "metadata": {},
   "outputs": [],
   "source": [
    "item = pystac.read_file(\n",
    "    \"data/MCD43A4.A2023205.h08v05.061.2023216154702/MCD43A4.A2023205.h08v05.061.2023216154702.json\"\n",
    ")\n",
    "ds_center = odc.stac.load(\n",
    "    [item],\n",
    "    crs=\"EPSG:32610\",\n",
    "    anchor=AnchorEnum.CENTER,\n",
    ")\n",
    "ds_edge = odc.stac.load(\n",
    "    [item],\n",
    "    crs=\"EPSG:32610\",\n",
    "    anchor=AnchorEnum.EDGE,\n",
    ")"
   ]
  },
  {
   "cell_type": "code",
   "execution_count": 4,
   "metadata": {},
   "outputs": [
    {
     "name": "stdout",
     "output_type": "stream",
     "text": [
      "odc-stac version 0.3.9:\n",
      "-----------------------\n",
      "Center:\n",
      "x = -143858.5984819183, y = 4454983.425774182\n",
      "\n",
      "Edge:\n",
      "x = -143858.5984819183, y = 4454983.425774182\n",
      "\n",
      "Deltas:\n",
      "delta x = 0.0\n",
      "delta y = 0.0\n"
     ]
    }
   ],
   "source": [
    "print(\"odc-stac version 0.3.9:\")\n",
    "print(\"-----------------------\")\n",
    "print(\"Center:\")\n",
    "print(f\"x = {ds_center.coords['x'].values[0]}, y = {ds_center.coords['y'].values[0]}\")\n",
    "print()\n",
    "print(\"Edge:\")\n",
    "print(f\"x = {ds_edge.coords['x'].values[0]}, y = {ds_edge.coords['y'].values[0]}\")\n",
    "print()\n",
    "print(\"Deltas:\")\n",
    "print(f\"delta x = {ds_center.coords['x'].values[0] - ds_edge.coords['x'].values[0]}\")\n",
    "print(f\"delta y = {ds_center.coords['y'].values[0] - ds_edge.coords['y'].values[0]}\")"
   ]
  }
 ],
 "metadata": {
  "kernelspec": {
   "display_name": ".venv-035",
   "language": "python",
   "name": "python3"
  },
  "language_info": {
   "codemirror_mode": {
    "name": "ipython",
    "version": 3
   },
   "file_extension": ".py",
   "mimetype": "text/x-python",
   "name": "python",
   "nbconvert_exporter": "python",
   "pygments_lexer": "ipython3",
   "version": "3.11.4"
  }
 },
 "nbformat": 4,
 "nbformat_minor": 2
}
